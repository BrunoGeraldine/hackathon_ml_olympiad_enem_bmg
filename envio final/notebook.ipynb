{
 "cells": [
  {
   "cell_type": "markdown",
   "id": "9f9db5a1",
   "metadata": {},
   "source": [
    "## 1.0 Bibliotecas"
   ]
  },
  {
   "cell_type": "code",
   "execution_count": 1,
   "id": "167dc79b",
   "metadata": {
    "ExecuteTime": {
     "end_time": "2021-10-10T01:15:37.632989Z",
     "start_time": "2021-10-10T01:15:36.492222Z"
    }
   },
   "outputs": [],
   "source": [
    "import unidecode\n",
    "import pandas as pd\n",
    "import seaborn as sns\n",
    "from os import listdir\n",
    "from os.path import isfile, join\n",
    "from IPython.display import HTML\n",
    "from sklearn.preprocessing import minmax_scale"
   ]
  },
  {
   "cell_type": "markdown",
   "id": "923ddbd3",
   "metadata": {},
   "source": [
    "### 2.0 Funções"
   ]
  },
  {
   "cell_type": "code",
   "execution_count": 2,
   "id": "ed8af44d",
   "metadata": {
    "ExecuteTime": {
     "end_time": "2021-10-10T01:15:37.648987Z",
     "start_time": "2021-10-10T01:15:37.633986Z"
    }
   },
   "outputs": [
    {
     "name": "stdout",
     "output_type": "stream",
     "text": [
      "Populating the interactive namespace from numpy and matplotlib\n"
     ]
    },
    {
     "data": {
      "text/html": [
       "<style>.container { width:100% !important; }</style>"
      ],
      "text/plain": [
       "<IPython.core.display.HTML object>"
      ]
     },
     "metadata": {},
     "output_type": "display_data"
    }
   ],
   "source": [
    "def jupyter_settings():\n",
    "    %matplotlib inline\n",
    "    %pylab inline\n",
    "    plt.style.use('bmh')\n",
    "    plt.rcParams['figure.figsize'] = [25, 12]\n",
    "    plt.rcParams['font.size'] = 24\n",
    "    display( HTML( '<style>.container { width:100% !important; }</style>') )\n",
    "    pd.options.display.max_columns = None\n",
    "    pd.options.display.max_rows = None\n",
    "    pd.set_option( 'display.expand_frame_repr', False )\n",
    "    sns.set()\n",
    "    \n",
    "jupyter_settings()"
   ]
  },
  {
   "cell_type": "markdown",
   "id": "e1f86a34",
   "metadata": {},
   "source": [
    "### 2.0 Constantes"
   ]
  },
  {
   "cell_type": "code",
   "execution_count": 3,
   "id": "a487e107",
   "metadata": {
    "ExecuteTime": {
     "end_time": "2021-10-10T01:15:37.663986Z",
     "start_time": "2021-10-10T01:15:37.649990Z"
    }
   },
   "outputs": [],
   "source": [
    "cols = ['Total', 'Pelo menos uma',\n",
    "                  'Visual-Não consegue de modo algum', 'Visual-Grande  dificuldade', 'Visual-Alguma dificuldade',\n",
    "                  'Auditiva-Não consegue de modo algum', 'Auditiva-Grande  dificuldade', 'Auditiva-Alguma dificuldade',\n",
    "                  'Motora-Não consegue de modo algum', 'Motora-Grande  dificuldade', 'Motora-Alguma dificuldade',\n",
    "                  'Mental', 'Nenhuma', 'Estado']\n",
    "\n",
    "cols_order = ['Estado', 'Total', 'Pelo menos uma',\n",
    "                  'Visual-Não consegue de modo algum', 'Visual-Grande  dificuldade', 'Visual-Alguma dificuldade',\n",
    "                  'Auditiva-Não consegue de modo algum', 'Auditiva-Grande  dificuldade', 'Auditiva-Alguma dificuldade',\n",
    "                  'Motora-Não consegue de modo algum', 'Motora-Grande  dificuldade', 'Motora-Alguma dificuldade',\n",
    "                  'Mental', 'Nenhuma']"
   ]
  },
  {
   "cell_type": "markdown",
   "id": "599f018e",
   "metadata": {
    "ExecuteTime": {
     "end_time": "2021-10-09T00:01:56.979138Z",
     "start_time": "2021-10-09T00:01:56.968129Z"
    }
   },
   "source": [
    "### 3.0 Leitura de Dados"
   ]
  },
  {
   "cell_type": "markdown",
   "id": "372c17c4",
   "metadata": {},
   "source": [
    "#### 3.1 Dados do Censo IBGE 2010 (Pessoas com Deficiência)\n",
    " - Fonte: https://www.ibge.gov.br/estatisticas/sociais/populacao/2098-np-censo-demografico/9662-censo-demografico-2010.html?edicao=9749&t=resultados"
   ]
  },
  {
   "cell_type": "code",
   "execution_count": 4,
   "id": "80d8620c",
   "metadata": {
    "ExecuteTime": {
     "end_time": "2021-10-10T01:15:37.946988Z",
     "start_time": "2021-10-10T01:15:37.664989Z"
    }
   },
   "outputs": [],
   "source": [
    "df_final = pd.DataFrame(columns=cols_order)\n",
    "\n",
    "for estado in listdir('data'):\n",
    "    url = 'data\\\\{}\\\\Tabela {}.3.1.xls'\n",
    "    \n",
    "    file_prefix = listdir('data\\\\{}'.format(estado))[0][7:11]\n",
    "    file_prefix = file_prefix if file_prefix[-1] != '.' else file_prefix[:-1]\n",
    "    \n",
    "    url = url.format(estado,file_prefix)\n",
    "    \n",
    "    df = pd.read_excel(url, skiprows=7, header=None)\n",
    "    df.drop(columns=[0,9], inplace=True)\n",
    "    df['Estado'] = estado\n",
    "    \n",
    "    df.columns = cols\n",
    "    df = df[cols_order]\n",
    "    \n",
    "    df_final = df_final.append(df.iloc[0])"
   ]
  },
  {
   "cell_type": "markdown",
   "id": "90d9c464",
   "metadata": {},
   "source": [
    "#### 3.2 Dados do Censo IBGE 2010 (população por município)\n",
    " - Fonte: https://www.ibge.gov.br/estatisticas/sociais/saude/9662-censo-demografico-2010.html?=&t=resultados"
   ]
  },
  {
   "cell_type": "code",
   "execution_count": 5,
   "id": "3fc31ed9",
   "metadata": {
    "ExecuteTime": {
     "end_time": "2021-10-10T01:15:38.728987Z",
     "start_time": "2021-10-10T01:15:37.947989Z"
    }
   },
   "outputs": [],
   "source": [
    "df_pop_mun = pd.read_excel('pop_mun_ibge_2010.xlsx')"
   ]
  },
  {
   "cell_type": "markdown",
   "id": "58e3af40",
   "metadata": {},
   "source": [
    "#### 3.3 Dados IBP Fiocruz \n",
    "- Fonte IBP: site da Fiocruz (https://cidacs.bahia.fiocruz.br/ibp/#) > Painel > IBP Municipal (download da base) > Formulário para download (https://docs.google.com/forms/d/e/1FAIpQLSdyzl4lXeuYnQJshhTyZ5_2Ejdd1xl_urfsOU2N2y6ax2oGUw/viewform)"
   ]
  },
  {
   "cell_type": "code",
   "execution_count": 6,
   "id": "4f02bf4b",
   "metadata": {
    "ExecuteTime": {
     "end_time": "2021-10-10T01:15:38.745015Z",
     "start_time": "2021-10-10T01:15:38.729988Z"
    }
   },
   "outputs": [],
   "source": [
    "df_ibp = pd.read_csv( 'IBP/BDI_Municipalities-Level_Short.csv' ).drop(columns=['uf', 'nome_da_uf', 'codmun6', 'nome_do_municipio'] )"
   ]
  },
  {
   "cell_type": "markdown",
   "id": "0b403204",
   "metadata": {},
   "source": [
    "#### 3.4 Dados dos municípios do Brasil com Latitude e Longitude\n",
    "- Fonte da dados: https://github.com/kelvins/Municipios-Brasileiros/blob/main/csv/municipios.csv"
   ]
  },
  {
   "cell_type": "code",
   "execution_count": 7,
   "id": "40928157",
   "metadata": {
    "ExecuteTime": {
     "end_time": "2021-10-10T01:15:38.761027Z",
     "start_time": "2021-10-10T01:15:38.746018Z"
    }
   },
   "outputs": [],
   "source": [
    "df_mun = pd.read_csv( 'municipios.csv' ).drop( columns=['nome', 'capital', 'codigo_uf', 'siafi_id', 'ddd', 'fuso_horario'] )\n",
    "df_mun.columns = ['c_cod_mun', 'lat', 'long']"
   ]
  },
  {
   "cell_type": "markdown",
   "id": "077e9d3b",
   "metadata": {},
   "source": [
    "## 4.0 Conversão de Tipo"
   ]
  },
  {
   "cell_type": "code",
   "execution_count": 8,
   "id": "5cbd1684",
   "metadata": {
    "ExecuteTime": {
     "end_time": "2021-10-10T01:15:38.776215Z",
     "start_time": "2021-10-10T01:15:38.762018Z"
    }
   },
   "outputs": [],
   "source": [
    "for c in ['Total', 'Pelo menos uma', 'Visual-Não consegue de modo algum',\n",
    "       'Visual-Grande  dificuldade', 'Visual-Alguma dificuldade',\n",
    "       'Auditiva-Não consegue de modo algum', 'Auditiva-Grande  dificuldade',\n",
    "       'Auditiva-Alguma dificuldade', 'Motora-Não consegue de modo algum',\n",
    "       'Motora-Grande  dificuldade', 'Motora-Alguma dificuldade', 'Mental',\n",
    "       'Nenhuma']:\n",
    "    df_final[c] = df_final[c].astype('int')"
   ]
  },
  {
   "cell_type": "markdown",
   "id": "8ba800e9",
   "metadata": {},
   "source": [
    "### 5.0 Engenharia de Features"
   ]
  },
  {
   "cell_type": "markdown",
   "id": "81d4b7cb",
   "metadata": {},
   "source": [
    "#### 5.1 Total de pessoas c/ repetição entre pessoas com mais de uma deficiência"
   ]
  },
  {
   "cell_type": "code",
   "execution_count": 9,
   "id": "a53ce027",
   "metadata": {
    "ExecuteTime": {
     "end_time": "2021-10-10T01:15:38.792215Z",
     "start_time": "2021-10-10T01:15:38.777215Z"
    }
   },
   "outputs": [],
   "source": [
    "df_final['Total c/ Repetição'] = df_final.iloc[:, 3:].apply(lambda x: x.sum(), axis=1)"
   ]
  },
  {
   "cell_type": "markdown",
   "id": "846f7ff3",
   "metadata": {},
   "source": [
    "#### 5.2 Total de pessoas c/ deficiência c/ repetição entre pessoas com mais de uma deficiência"
   ]
  },
  {
   "cell_type": "code",
   "execution_count": 10,
   "id": "80380df7",
   "metadata": {
    "ExecuteTime": {
     "end_time": "2021-10-10T01:15:38.807214Z",
     "start_time": "2021-10-10T01:15:38.794215Z"
    }
   },
   "outputs": [],
   "source": [
    "df_final['Total c/ Deficiência c/ Repetição'] = df_final.iloc[:, 3:-2].apply(lambda x: x.sum(), axis=1)"
   ]
  },
  {
   "cell_type": "markdown",
   "id": "e74a62b6",
   "metadata": {},
   "source": [
    "#### 5.3 Percentual de pessoas com deficiência"
   ]
  },
  {
   "cell_type": "code",
   "execution_count": 11,
   "id": "23ab455f",
   "metadata": {
    "ExecuteTime": {
     "end_time": "2021-10-10T01:15:38.823214Z",
     "start_time": "2021-10-10T01:15:38.808215Z"
    }
   },
   "outputs": [],
   "source": [
    "df_final['% respostas com deficiência'] = round(df_final['Total c/ Deficiência c/ Repetição']/df_final['Total c/ Repetição'],4)*100"
   ]
  },
  {
   "cell_type": "code",
   "execution_count": 12,
   "id": "499b9d4b",
   "metadata": {
    "ExecuteTime": {
     "end_time": "2021-10-10T01:15:38.839224Z",
     "start_time": "2021-10-10T01:15:38.824215Z"
    }
   },
   "outputs": [],
   "source": [
    "df_final['% pessoas com deficiência'] = round(df_final['Pelo menos uma']/df_final['Total'],4)*100"
   ]
  },
  {
   "cell_type": "markdown",
   "id": "3b44d8b8",
   "metadata": {},
   "source": [
    "### 5.4 Coluna UF"
   ]
  },
  {
   "cell_type": "code",
   "execution_count": 13,
   "id": "634f7a47",
   "metadata": {
    "ExecuteTime": {
     "end_time": "2021-10-10T01:15:38.855215Z",
     "start_time": "2021-10-10T01:15:38.840215Z"
    }
   },
   "outputs": [],
   "source": [
    "d_uf = {\n",
    "    'AC': 'Acre',\n",
    "    'AL': 'Alagoas',\n",
    "    'AP': 'Amapá',\n",
    "    'AM': 'Amazonas',\n",
    "    'BA': 'Bahia',\n",
    "    'CE': 'Ceará',\n",
    "    'DF': 'Distrito Federal',\n",
    "    'ES': 'Espírito Santo',\n",
    "    'GO': 'Goiás',\n",
    "    'MA': 'Maranhão',\n",
    "    'MT': 'Mato Grosso',\n",
    "    'MS': 'Mato Grosso do Sul',\n",
    "    'MG': 'Minas Gerais',\n",
    "    'PA': 'Pará',\n",
    "    'PB': 'Paraíba',\n",
    "    'PR': 'Paraná',\n",
    "    'PE': 'Pernambuco',\n",
    "    'PI': 'Piauí',\n",
    "    'RJ': 'Rio de Janeiro',\n",
    "    'RN': 'Rio Grande do Norte',\n",
    "    'RS': 'Rio Grande do Sul',\n",
    "    'RO': 'Rondônia',\n",
    "    'RR': 'Roraima',\n",
    "    'SC': 'Santa Catarina',\n",
    "    'SP': 'São Paulo',\n",
    "    'SE': 'Sergipe',\n",
    "    'TO': 'Tocantins'\n",
    "}\n",
    "d_uf = {unidecode.unidecode(v): k for k, v in d_uf.items()}"
   ]
  },
  {
   "cell_type": "code",
   "execution_count": 14,
   "id": "031e1ea4",
   "metadata": {
    "ExecuteTime": {
     "end_time": "2021-10-10T01:15:38.871215Z",
     "start_time": "2021-10-10T01:15:38.856215Z"
    }
   },
   "outputs": [],
   "source": [
    "df_final['UF'] = df_final['Estado'].map(d_uf)\n",
    "df_final = df_final[['UF'] + list(df_final.columns[:-1])]"
   ]
  },
  {
   "cell_type": "markdown",
   "id": "c8f3fd12",
   "metadata": {},
   "source": [
    "#### 5.5 Expansão da Granularidade da Base (Estado p/ Município)"
   ]
  },
  {
   "cell_type": "code",
   "execution_count": 15,
   "id": "3597dee6",
   "metadata": {
    "ExecuteTime": {
     "end_time": "2021-10-10T01:15:38.887215Z",
     "start_time": "2021-10-10T01:15:38.872215Z"
    }
   },
   "outputs": [],
   "source": [
    "df_pop_mun = df_pop_mun[['uf', 'cod_mun', 'mun', 'pop_abs', 'pop_rel_uf']]\n",
    "df_pop_mun.columns = ['UF', 'c_cod_mun', 'c_mun', 'c_pop_abs', 'c_pop_rel_uf']\n",
    "df_municipios = df_pop_mun.merge(df_final, how='left', on='UF')"
   ]
  },
  {
   "cell_type": "code",
   "execution_count": 16,
   "id": "bb1a8499",
   "metadata": {
    "ExecuteTime": {
     "end_time": "2021-10-10T01:15:38.903215Z",
     "start_time": "2021-10-10T01:15:38.888215Z"
    }
   },
   "outputs": [
    {
     "data": {
      "text/html": [
       "<div>\n",
       "<style scoped>\n",
       "    .dataframe tbody tr th:only-of-type {\n",
       "        vertical-align: middle;\n",
       "    }\n",
       "\n",
       "    .dataframe tbody tr th {\n",
       "        vertical-align: top;\n",
       "    }\n",
       "\n",
       "    .dataframe thead th {\n",
       "        text-align: right;\n",
       "    }\n",
       "</style>\n",
       "<table border=\"1\" class=\"dataframe\">\n",
       "  <thead>\n",
       "    <tr style=\"text-align: right;\">\n",
       "      <th></th>\n",
       "      <th>UF</th>\n",
       "      <th>c_cod_mun</th>\n",
       "      <th>c_mun</th>\n",
       "      <th>c_pop_abs</th>\n",
       "      <th>c_pop_rel_uf</th>\n",
       "      <th>Estado</th>\n",
       "      <th>Total</th>\n",
       "      <th>Pelo menos uma</th>\n",
       "      <th>Visual-Não consegue de modo algum</th>\n",
       "      <th>Visual-Grande  dificuldade</th>\n",
       "      <th>Visual-Alguma dificuldade</th>\n",
       "      <th>Auditiva-Não consegue de modo algum</th>\n",
       "      <th>Auditiva-Grande  dificuldade</th>\n",
       "      <th>Auditiva-Alguma dificuldade</th>\n",
       "      <th>Motora-Não consegue de modo algum</th>\n",
       "      <th>Motora-Grande  dificuldade</th>\n",
       "      <th>Motora-Alguma dificuldade</th>\n",
       "      <th>Mental</th>\n",
       "      <th>Nenhuma</th>\n",
       "      <th>Total c/ Repetição</th>\n",
       "      <th>Total c/ Deficiência c/ Repetição</th>\n",
       "      <th>% respostas com deficiência</th>\n",
       "      <th>% pessoas com deficiência</th>\n",
       "    </tr>\n",
       "  </thead>\n",
       "  <tbody>\n",
       "    <tr>\n",
       "      <th>0</th>\n",
       "      <td>AC</td>\n",
       "      <td>1200013</td>\n",
       "      <td>Acrelândia</td>\n",
       "      <td>12538</td>\n",
       "      <td>0.017092</td>\n",
       "      <td>Acre</td>\n",
       "      <td>733558</td>\n",
       "      <td>165892</td>\n",
       "      <td>1410</td>\n",
       "      <td>25143</td>\n",
       "      <td>106849</td>\n",
       "      <td>1188</td>\n",
       "      <td>6159</td>\n",
       "      <td>26811</td>\n",
       "      <td>2105</td>\n",
       "      <td>11722</td>\n",
       "      <td>31560</td>\n",
       "      <td>12105</td>\n",
       "      <td>567462</td>\n",
       "      <td>792514</td>\n",
       "      <td>225052</td>\n",
       "      <td>28.4</td>\n",
       "      <td>22.61</td>\n",
       "    </tr>\n",
       "    <tr>\n",
       "      <th>1</th>\n",
       "      <td>AC</td>\n",
       "      <td>1200054</td>\n",
       "      <td>Assis Brasil</td>\n",
       "      <td>6072</td>\n",
       "      <td>0.008277</td>\n",
       "      <td>Acre</td>\n",
       "      <td>733558</td>\n",
       "      <td>165892</td>\n",
       "      <td>1410</td>\n",
       "      <td>25143</td>\n",
       "      <td>106849</td>\n",
       "      <td>1188</td>\n",
       "      <td>6159</td>\n",
       "      <td>26811</td>\n",
       "      <td>2105</td>\n",
       "      <td>11722</td>\n",
       "      <td>31560</td>\n",
       "      <td>12105</td>\n",
       "      <td>567462</td>\n",
       "      <td>792514</td>\n",
       "      <td>225052</td>\n",
       "      <td>28.4</td>\n",
       "      <td>22.61</td>\n",
       "    </tr>\n",
       "    <tr>\n",
       "      <th>2</th>\n",
       "      <td>AC</td>\n",
       "      <td>1200104</td>\n",
       "      <td>Brasiléia</td>\n",
       "      <td>21398</td>\n",
       "      <td>0.029170</td>\n",
       "      <td>Acre</td>\n",
       "      <td>733558</td>\n",
       "      <td>165892</td>\n",
       "      <td>1410</td>\n",
       "      <td>25143</td>\n",
       "      <td>106849</td>\n",
       "      <td>1188</td>\n",
       "      <td>6159</td>\n",
       "      <td>26811</td>\n",
       "      <td>2105</td>\n",
       "      <td>11722</td>\n",
       "      <td>31560</td>\n",
       "      <td>12105</td>\n",
       "      <td>567462</td>\n",
       "      <td>792514</td>\n",
       "      <td>225052</td>\n",
       "      <td>28.4</td>\n",
       "      <td>22.61</td>\n",
       "    </tr>\n",
       "    <tr>\n",
       "      <th>3</th>\n",
       "      <td>AC</td>\n",
       "      <td>1200138</td>\n",
       "      <td>Bujari</td>\n",
       "      <td>8471</td>\n",
       "      <td>0.011548</td>\n",
       "      <td>Acre</td>\n",
       "      <td>733558</td>\n",
       "      <td>165892</td>\n",
       "      <td>1410</td>\n",
       "      <td>25143</td>\n",
       "      <td>106849</td>\n",
       "      <td>1188</td>\n",
       "      <td>6159</td>\n",
       "      <td>26811</td>\n",
       "      <td>2105</td>\n",
       "      <td>11722</td>\n",
       "      <td>31560</td>\n",
       "      <td>12105</td>\n",
       "      <td>567462</td>\n",
       "      <td>792514</td>\n",
       "      <td>225052</td>\n",
       "      <td>28.4</td>\n",
       "      <td>22.61</td>\n",
       "    </tr>\n",
       "    <tr>\n",
       "      <th>4</th>\n",
       "      <td>AC</td>\n",
       "      <td>1200179</td>\n",
       "      <td>Capixaba</td>\n",
       "      <td>8798</td>\n",
       "      <td>0.011994</td>\n",
       "      <td>Acre</td>\n",
       "      <td>733558</td>\n",
       "      <td>165892</td>\n",
       "      <td>1410</td>\n",
       "      <td>25143</td>\n",
       "      <td>106849</td>\n",
       "      <td>1188</td>\n",
       "      <td>6159</td>\n",
       "      <td>26811</td>\n",
       "      <td>2105</td>\n",
       "      <td>11722</td>\n",
       "      <td>31560</td>\n",
       "      <td>12105</td>\n",
       "      <td>567462</td>\n",
       "      <td>792514</td>\n",
       "      <td>225052</td>\n",
       "      <td>28.4</td>\n",
       "      <td>22.61</td>\n",
       "    </tr>\n",
       "  </tbody>\n",
       "</table>\n",
       "</div>"
      ],
      "text/plain": [
       "   UF  c_cod_mun         c_mun  c_pop_abs  c_pop_rel_uf Estado   Total  Pelo menos uma  Visual-Não consegue de modo algum  Visual-Grande  dificuldade  Visual-Alguma dificuldade  Auditiva-Não consegue de modo algum  Auditiva-Grande  dificuldade  Auditiva-Alguma dificuldade  Motora-Não consegue de modo algum  Motora-Grande  dificuldade  Motora-Alguma dificuldade  Mental  Nenhuma  Total c/ Repetição  Total c/ Deficiência c/ Repetição  % respostas com deficiência  % pessoas com deficiência\n",
       "0  AC    1200013    Acrelândia      12538      0.017092   Acre  733558          165892                               1410                       25143                     106849                                 1188                          6159                        26811                               2105                       11722                      31560   12105   567462              792514                             225052                         28.4                      22.61\n",
       "1  AC    1200054  Assis Brasil       6072      0.008277   Acre  733558          165892                               1410                       25143                     106849                                 1188                          6159                        26811                               2105                       11722                      31560   12105   567462              792514                             225052                         28.4                      22.61\n",
       "2  AC    1200104     Brasiléia      21398      0.029170   Acre  733558          165892                               1410                       25143                     106849                                 1188                          6159                        26811                               2105                       11722                      31560   12105   567462              792514                             225052                         28.4                      22.61\n",
       "3  AC    1200138        Bujari       8471      0.011548   Acre  733558          165892                               1410                       25143                     106849                                 1188                          6159                        26811                               2105                       11722                      31560   12105   567462              792514                             225052                         28.4                      22.61\n",
       "4  AC    1200179      Capixaba       8798      0.011994   Acre  733558          165892                               1410                       25143                     106849                                 1188                          6159                        26811                               2105                       11722                      31560   12105   567462              792514                             225052                         28.4                      22.61"
      ]
     },
     "execution_count": 16,
     "metadata": {},
     "output_type": "execute_result"
    }
   ],
   "source": [
    "df_municipios.head()"
   ]
  },
  {
   "cell_type": "markdown",
   "id": "fb525cb0",
   "metadata": {
    "ExecuteTime": {
     "end_time": "2021-10-10T00:11:41.487382Z",
     "start_time": "2021-10-10T00:11:41.472343Z"
    }
   },
   "source": [
    "#### 5.6 Métricas (Nessa ordem)\n",
    " - Quantidade de pessoas com deficiência por município\n",
    " - % marcações de deficiência (respostas) sobre o total de respostas recebidas\n",
    " - % população c/ deficiência por população da UF\n",
    " - % população c/ deficiência em relação a população total do Brasil\n",
    " - taxa da população c/ deficiência por população da UF\n",
    " - taxa da população c/ deficiência em relação a população total do Brasil\n",
    " - taxa da população c/ deficiência por população da UF (Normalizada)\n",
    " - taxa da população c/ deficiência em relação a população total do Brasil (Normalizada)"
   ]
  },
  {
   "cell_type": "code",
   "execution_count": 17,
   "id": "d581dadc",
   "metadata": {
    "ExecuteTime": {
     "end_time": "2021-10-10T01:15:38.918216Z",
     "start_time": "2021-10-10T01:15:38.904216Z"
    }
   },
   "outputs": [],
   "source": [
    "pop_bras_2010 = df_final['Total'].sum()\n",
    "\n",
    "df_municipios['qtd. pessoas c/ deficiencia'] = round(df_municipios['c_pop_rel_uf'] * df_municipios['Pelo menos uma'])\n",
    "df_municipios['% respostas com deficiência'] = round((df_municipios['c_pop_rel_uf'] * df_municipios['Pelo menos uma'])/df_municipios['c_pop_abs'],4)*100\n",
    "df_municipios['c_%_pop_def_rel_uf'] = df_municipios['c_pop_rel_uf'] * df_municipios['Pelo menos uma'] / df_municipios['Total'] *100\n",
    "df_municipios['c_%_pop_def_rel_bras'] = df_municipios['c_pop_rel_uf'] * df_municipios['Pelo menos uma'] / pop_bras_2010 *100\n",
    "\n",
    "df_municipios['taxa_pop_def_reluf'] = df_municipios['c_%_pop_def_rel_uf']/100\n",
    "df_municipios['taxa_pop_def_relbras'] = df_municipios['c_%_pop_def_rel_bras']/100\n",
    "\n",
    "\n",
    "df_municipios['taxa_pop_def_reluf_norm'] = minmax_scale(df_municipios['taxa_pop_def_reluf'])\n",
    "df_municipios['taxa_pop_def_relbras_norm'] = minmax_scale(df_municipios['taxa_pop_def_relbras'])"
   ]
  },
  {
   "cell_type": "markdown",
   "id": "27eee322",
   "metadata": {},
   "source": [
    "### 5.6 Concatenação de Dados"
   ]
  },
  {
   "cell_type": "markdown",
   "id": "0779ce46",
   "metadata": {},
   "source": [
    "#### 5.6.1 Dados do IBP e IBP Normalizado\n",
    " - Valor do IBP normalizado."
   ]
  },
  {
   "cell_type": "code",
   "execution_count": 18,
   "id": "0e28272c",
   "metadata": {
    "ExecuteTime": {
     "end_time": "2021-10-10T01:15:38.934215Z",
     "start_time": "2021-10-10T01:15:38.919217Z"
    },
    "scrolled": true
   },
   "outputs": [],
   "source": [
    "df_municipios = df_municipios.merge(df_ibp, how='left', left_on='c_cod_mun', right_on='cod_municipio' )\n",
    "df_municipios = df_municipios.rename( columns={'measure_1f_12': 'ibp', 'd_measure_1f_12': 'd_ibp', 'q_measure_1f_12': 'q_ibp' } )\n",
    "df_municipios.drop( columns=['cod_municipio'], inplace=True )\n",
    "\n",
    "df_municipios['ibp_norm'] = minmax_scale(df_municipios['ibp'])"
   ]
  },
  {
   "cell_type": "markdown",
   "id": "f61cd7cc",
   "metadata": {},
   "source": [
    "#### 5.6.2 Latitude e Longitude dos Municípios"
   ]
  },
  {
   "cell_type": "code",
   "execution_count": 19,
   "id": "fdd58f8a",
   "metadata": {
    "ExecuteTime": {
     "end_time": "2021-10-10T01:15:38.949230Z",
     "start_time": "2021-10-10T01:15:38.935225Z"
    }
   },
   "outputs": [],
   "source": [
    "df_municipios = df_municipios.merge(df_mun, how='left', on='c_cod_mun' )"
   ]
  },
  {
   "cell_type": "code",
   "execution_count": 20,
   "id": "b6e32269",
   "metadata": {
    "ExecuteTime": {
     "end_time": "2021-10-10T01:15:38.965215Z",
     "start_time": "2021-10-10T01:15:38.950219Z"
    }
   },
   "outputs": [],
   "source": [
    "df_municipios['lat_long'] = df_mun['lat'].astype(str) + ',' + df_mun['long'].astype(str)"
   ]
  },
  {
   "cell_type": "markdown",
   "id": "978743e6",
   "metadata": {},
   "source": [
    "## 6.0 Salvar Dados em Arquivo CSV"
   ]
  },
  {
   "cell_type": "code",
   "execution_count": 22,
   "id": "cd646c33",
   "metadata": {
    "ExecuteTime": {
     "end_time": "2021-10-10T01:15:48.707950Z",
     "start_time": "2021-10-10T01:15:48.507400Z"
    }
   },
   "outputs": [],
   "source": [
    "df_municipios.to_csv( 'df_all_ibp.csv', decimal=',', index=False)"
   ]
  },
  {
   "cell_type": "code",
   "execution_count": null,
   "id": "08aaf234",
   "metadata": {
    "ExecuteTime": {
     "end_time": "2021-10-10T01:15:39.312215Z",
     "start_time": "2021-10-10T01:15:39.312215Z"
    }
   },
   "outputs": [],
   "source": [
    "# Abaixo, o parâmetro setado em 0.4 é o parâmetro 1 no dashboard. O segundo (0.6) é o parâmetro 2.\n",
    "# Por construção, exige-se: 'parâmetro 1 + parâmetro 2 = 1'\n",
    "df_municipios['taxa'] = df_municipios['taxa_pop_def_relbras_norm']*0.4 + df_municipios['ibp_norm']*0.6"
   ]
  },
  {
   "cell_type": "code",
   "execution_count": null,
   "id": "4b3031b5",
   "metadata": {
    "ExecuteTime": {
     "end_time": "2021-10-10T01:15:39.313216Z",
     "start_time": "2021-10-10T01:15:39.313216Z"
    }
   },
   "outputs": [],
   "source": [
    "df_municipios['taxa'].quantile(0.75)"
   ]
  },
  {
   "cell_type": "code",
   "execution_count": null,
   "id": "72abecbe",
   "metadata": {
    "ExecuteTime": {
     "end_time": "2021-10-10T01:15:39.314216Z",
     "start_time": "2021-10-10T01:15:39.314216Z"
    }
   },
   "outputs": [],
   "source": [
    "pd.Series(minmax_scale(df_municipios['taxa'])).max()"
   ]
  }
 ],
 "metadata": {
  "kernelspec": {
   "display_name": "Python 3 (ipykernel)",
   "language": "python",
   "name": "python3"
  },
  "language_info": {
   "codemirror_mode": {
    "name": "ipython",
    "version": 3
   },
   "file_extension": ".py",
   "mimetype": "text/x-python",
   "name": "python",
   "nbconvert_exporter": "python",
   "pygments_lexer": "ipython3",
   "version": "3.9.7"
  },
  "toc": {
   "base_numbering": 1,
   "nav_menu": {},
   "number_sections": true,
   "sideBar": true,
   "skip_h1_title": false,
   "title_cell": "Table of Contents",
   "title_sidebar": "Contents",
   "toc_cell": false,
   "toc_position": {},
   "toc_section_display": true,
   "toc_window_display": false
  }
 },
 "nbformat": 4,
 "nbformat_minor": 5
}
