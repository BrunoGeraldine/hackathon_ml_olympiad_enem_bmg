{
 "cells": [
  {
   "cell_type": "markdown",
   "id": "9f9db5a1",
   "metadata": {
    "heading_collapsed": true
   },
   "source": [
    "## 1.0 Bibliotecas"
   ]
  },
  {
   "cell_type": "code",
   "execution_count": null,
   "id": "167dc79b",
   "metadata": {
    "ExecuteTime": {
     "start_time": "2021-10-09T23:18:51.394Z"
    },
    "hidden": true
   },
   "outputs": [],
   "source": [
    "import unidecode\n",
    "import pandas as pd\n",
    "from os import listdir\n",
    "from os.path import isfile, join\n",
    "from IPython.display import HTML\n",
    "import seaborn as sns"
   ]
  },
  {
   "cell_type": "markdown",
   "id": "923ddbd3",
   "metadata": {
    "hidden": true
   },
   "source": [
    "### 2.0 Funções"
   ]
  },
  {
   "cell_type": "code",
   "execution_count": null,
   "id": "ed8af44d",
   "metadata": {
    "ExecuteTime": {
     "start_time": "2021-10-09T23:18:51.398Z"
    },
    "hidden": true
   },
   "outputs": [],
   "source": [
    "def jupyter_settings():\n",
    "    %matplotlib inline\n",
    "    %pylab inline\n",
    "    plt.style.use('bmh')\n",
    "    plt.rcParams['figure.figsize'] = [25, 12]\n",
    "    plt.rcParams['font.size'] = 24\n",
    "    display( HTML( '<style>.container { width:100% !important; }</style>') )\n",
    "    pd.options.display.max_columns = None\n",
    "    pd.options.display.max_rows = None\n",
    "    pd.set_option( 'display.expand_frame_repr', False )\n",
    "    sns.set()\n",
    "    \n",
    "jupyter_settings()"
   ]
  },
  {
   "cell_type": "markdown",
   "id": "e1f86a34",
   "metadata": {
    "heading_collapsed": true,
    "hidden": true
   },
   "source": [
    "### 2.0 Constantes"
   ]
  },
  {
   "cell_type": "code",
   "execution_count": null,
   "id": "a487e107",
   "metadata": {
    "ExecuteTime": {
     "start_time": "2021-10-09T23:18:51.401Z"
    },
    "hidden": true
   },
   "outputs": [],
   "source": [
    "cols = ['Total', 'Pelo menos uma',\n",
    "                  'Visual-Não consegue de modo algum', 'Visual-Grande  dificuldade', 'Visual-Alguma dificuldade',\n",
    "                  'Auditiva-Não consegue de modo algum', 'Auditiva-Grande  dificuldade', 'Auditiva-Alguma dificuldade',\n",
    "                  'Motora-Não consegue de modo algum', 'Motora-Grande  dificuldade', 'Motora-Alguma dificuldade',\n",
    "                  'Mental', 'Nenhuma', 'Estado']\n",
    "\n",
    "cols_order = ['Estado', 'Total', 'Pelo menos uma',\n",
    "                  'Visual-Não consegue de modo algum', 'Visual-Grande  dificuldade', 'Visual-Alguma dificuldade',\n",
    "                  'Auditiva-Não consegue de modo algum', 'Auditiva-Grande  dificuldade', 'Auditiva-Alguma dificuldade',\n",
    "                  'Motora-Não consegue de modo algum', 'Motora-Grande  dificuldade', 'Motora-Alguma dificuldade',\n",
    "                  'Mental', 'Nenhuma']"
   ]
  },
  {
   "cell_type": "markdown",
   "id": "599f018e",
   "metadata": {
    "ExecuteTime": {
     "end_time": "2021-10-09T00:01:56.979138Z",
     "start_time": "2021-10-09T00:01:56.968129Z"
    },
    "heading_collapsed": true,
    "hidden": true
   },
   "source": [
    "### 3.0 Leitura de Dados"
   ]
  },
  {
   "cell_type": "code",
   "execution_count": null,
   "id": "80d8620c",
   "metadata": {
    "ExecuteTime": {
     "start_time": "2021-10-09T23:18:51.404Z"
    },
    "hidden": true
   },
   "outputs": [],
   "source": [
    "df_final = pd.DataFrame(columns=cols_order)\n",
    "\n",
    "for estado in listdir('data'):\n",
    "    url = 'data\\\\{}\\\\Tabela {}.3.1.xls'\n",
    "    \n",
    "    file_prefix = listdir('data\\\\{}'.format(estado))[0][7:11]\n",
    "    file_prefix = file_prefix if file_prefix[-1] != '.' else file_prefix[:-1]\n",
    "    \n",
    "    url = url.format(estado,file_prefix)\n",
    "    \n",
    "    df = pd.read_excel(url, skiprows=7, header=None)\n",
    "    df.drop(columns=[0,9], inplace=True)\n",
    "    df['Estado'] = estado\n",
    "    \n",
    "    df.columns = cols\n",
    "    df = df[cols_order]\n",
    "    \n",
    "    df_final = df_final.append(df.iloc[0])"
   ]
  },
  {
   "cell_type": "code",
   "execution_count": null,
   "id": "96e6ed28",
   "metadata": {
    "ExecuteTime": {
     "start_time": "2021-10-09T23:18:51.408Z"
    },
    "hidden": true
   },
   "outputs": [],
   "source": [
    "df_final.select_dtypes('float64').columns"
   ]
  },
  {
   "cell_type": "markdown",
   "id": "077e9d3b",
   "metadata": {
    "heading_collapsed": true
   },
   "source": [
    "## 4.0 Conversão de Tipo"
   ]
  },
  {
   "cell_type": "code",
   "execution_count": null,
   "id": "5cbd1684",
   "metadata": {
    "ExecuteTime": {
     "start_time": "2021-10-09T23:18:51.410Z"
    },
    "hidden": true
   },
   "outputs": [],
   "source": [
    "for c in ['Total', 'Pelo menos uma', 'Visual-Não consegue de modo algum',\n",
    "       'Visual-Grande  dificuldade', 'Visual-Alguma dificuldade',\n",
    "       'Auditiva-Não consegue de modo algum', 'Auditiva-Grande  dificuldade',\n",
    "       'Auditiva-Alguma dificuldade', 'Motora-Não consegue de modo algum',\n",
    "       'Motora-Grande  dificuldade', 'Motora-Alguma dificuldade', 'Mental',\n",
    "       'Nenhuma']:\n",
    "    df_final[c] = df_final[c].astype('int')"
   ]
  },
  {
   "cell_type": "markdown",
   "id": "8ba800e9",
   "metadata": {
    "heading_collapsed": true,
    "hidden": true
   },
   "source": [
    "### 4.0 Engenharia de Features"
   ]
  },
  {
   "cell_type": "markdown",
   "id": "81d4b7cb",
   "metadata": {
    "hidden": true
   },
   "source": [
    "#### 4.1 Total de pessoas c/ repetição entre pessoas com mais de uma deficiência"
   ]
  },
  {
   "cell_type": "code",
   "execution_count": null,
   "id": "a53ce027",
   "metadata": {
    "ExecuteTime": {
     "start_time": "2021-10-09T23:18:51.413Z"
    },
    "hidden": true
   },
   "outputs": [],
   "source": [
    "df_final['Total c/ Repetição'] = df_final.iloc[:, 3:].apply(lambda x: x.sum(), axis=1)"
   ]
  },
  {
   "cell_type": "markdown",
   "id": "846f7ff3",
   "metadata": {
    "hidden": true
   },
   "source": [
    "#### 4.2 Total de pessoas c/ deficiência c/ repetição entre pessoas com mais de uma deficiência"
   ]
  },
  {
   "cell_type": "code",
   "execution_count": null,
   "id": "80380df7",
   "metadata": {
    "ExecuteTime": {
     "start_time": "2021-10-09T23:18:51.416Z"
    },
    "hidden": true
   },
   "outputs": [],
   "source": [
    "df_final['Total c/ Deficiência c/ Repetição'] = df_final.iloc[:, 3:-2].apply(lambda x: x.sum(), axis=1)"
   ]
  },
  {
   "cell_type": "markdown",
   "id": "e74a62b6",
   "metadata": {
    "hidden": true
   },
   "source": [
    "#### 4.3 Percentual de pessoas com deficiência"
   ]
  },
  {
   "cell_type": "code",
   "execution_count": null,
   "id": "23ab455f",
   "metadata": {
    "ExecuteTime": {
     "start_time": "2021-10-09T23:18:51.418Z"
    },
    "hidden": true
   },
   "outputs": [],
   "source": [
    "df_final['% respostas com deficiência'] = round(df_final['Total c/ Deficiência c/ Repetição']/df_final['Total c/ Repetição'],4)*100"
   ]
  },
  {
   "cell_type": "code",
   "execution_count": null,
   "id": "499b9d4b",
   "metadata": {
    "ExecuteTime": {
     "start_time": "2021-10-09T23:18:51.421Z"
    },
    "hidden": true
   },
   "outputs": [],
   "source": [
    "df_final['% pessoas com deficiência'] = round(df_final['Pelo menos uma']/df_final['Total'],4)*100"
   ]
  },
  {
   "cell_type": "markdown",
   "id": "3b44d8b8",
   "metadata": {
    "hidden": true
   },
   "source": [
    "### 5.4 Coluna UF"
   ]
  },
  {
   "cell_type": "code",
   "execution_count": null,
   "id": "634f7a47",
   "metadata": {
    "ExecuteTime": {
     "start_time": "2021-10-09T23:18:51.424Z"
    },
    "hidden": true
   },
   "outputs": [],
   "source": [
    "d_uf = {\n",
    "    'AC': 'Acre',\n",
    "    'AL': 'Alagoas',\n",
    "    'AP': 'Amapá',\n",
    "    'AM': 'Amazonas',\n",
    "    'BA': 'Bahia',\n",
    "    'CE': 'Ceará',\n",
    "    'DF': 'Distrito Federal',\n",
    "    'ES': 'Espírito Santo',\n",
    "    'GO': 'Goiás',\n",
    "    'MA': 'Maranhão',\n",
    "    'MT': 'Mato Grosso',\n",
    "    'MS': 'Mato Grosso do Sul',\n",
    "    'MG': 'Minas Gerais',\n",
    "    'PA': 'Pará',\n",
    "    'PB': 'Paraíba',\n",
    "    'PR': 'Paraná',\n",
    "    'PE': 'Pernambuco',\n",
    "    'PI': 'Piauí',\n",
    "    'RJ': 'Rio de Janeiro',\n",
    "    'RN': 'Rio Grande do Norte',\n",
    "    'RS': 'Rio Grande do Sul',\n",
    "    'RO': 'Rondônia',\n",
    "    'RR': 'Roraima',\n",
    "    'SC': 'Santa Catarina',\n",
    "    'SP': 'São Paulo',\n",
    "    'SE': 'Sergipe',\n",
    "    'TO': 'Tocantins'\n",
    "}\n",
    "d_uf = {unidecode.unidecode(v): k for k, v in d_uf.items()}"
   ]
  },
  {
   "cell_type": "code",
   "execution_count": null,
   "id": "031e1ea4",
   "metadata": {
    "ExecuteTime": {
     "start_time": "2021-10-09T23:18:51.426Z"
    },
    "hidden": true
   },
   "outputs": [],
   "source": [
    "df_final['UF'] = df_final['Estado'].map(d_uf)\n",
    "df_final = df_final[['UF'] + list(df_final.columns[:-1])]"
   ]
  },
  {
   "cell_type": "markdown",
   "id": "27eee322",
   "metadata": {
    "hidden": true
   },
   "source": [
    "### 5.0 Visualização por Estado"
   ]
  },
  {
   "cell_type": "code",
   "execution_count": null,
   "id": "a945d55b",
   "metadata": {
    "ExecuteTime": {
     "start_time": "2021-10-09T23:18:51.429Z"
    },
    "hidden": true
   },
   "outputs": [],
   "source": [
    "# df_final.sort_values(by='% pessoas com deficiência', ascending=False).set_index('Estado')[['% com deficiência', '% pessoas com deficiência']]"
   ]
  },
  {
   "cell_type": "code",
   "execution_count": null,
   "id": "7b80a88c",
   "metadata": {
    "ExecuteTime": {
     "start_time": "2021-10-09T23:18:51.431Z"
    },
    "hidden": true
   },
   "outputs": [],
   "source": [
    "### "
   ]
  },
  {
   "cell_type": "code",
   "execution_count": null,
   "id": "0e28272c",
   "metadata": {
    "ExecuteTime": {
     "start_time": "2021-10-09T23:18:51.433Z"
    },
    "hidden": true,
    "scrolled": true
   },
   "outputs": [],
   "source": [
    "df_pop_mun = pd.read_excel('..\\\\hackathon-cer-brasil-2021\\\\cleiton\\\\pop_mun_ibge_2010.xlsx')\n",
    "df_pop_mun = df_pop_mun[['uf', 'cod_mun', 'mun', 'pop_abs', 'pop_rel_uf']]\n",
    "df_pop_mun.columns = ['UF', 'Código do Município', 'Município',  'População Total', 'População Relativa']"
   ]
  },
  {
   "cell_type": "code",
   "execution_count": null,
   "id": "83ccdb85",
   "metadata": {
    "ExecuteTime": {
     "start_time": "2021-10-09T23:18:51.438Z"
    },
    "hidden": true
   },
   "outputs": [],
   "source": [
    "df_municipios = df_pop_mun.merge(df_final, how='left', on='UF')"
   ]
  },
  {
   "cell_type": "code",
   "execution_count": null,
   "id": "be933a10",
   "metadata": {
    "ExecuteTime": {
     "start_time": "2021-10-09T23:18:51.441Z"
    },
    "hidden": true
   },
   "outputs": [],
   "source": [
    "df_municipios['qtd. pessoas c/ deficiencia'] = round(df_municipios['População Relativa'] * df_municipios['Pelo menos uma'])\n",
    "df_municipios['% pessoas c/ deficiencia'] = round((df_municipios['População Relativa'] * df_municipios['Pelo menos uma'])/df_municipios['População Total'],4)*100"
   ]
  },
  {
   "cell_type": "code",
   "execution_count": null,
   "id": "6464fa5a",
   "metadata": {
    "ExecuteTime": {
     "start_time": "2021-10-09T23:18:51.444Z"
    },
    "hidden": true
   },
   "outputs": [],
   "source": [
    "df_municipios[['UF', 'Município', 'População Total', 'qtd. pessoas c/ deficiencia', '% pessoas c/ deficiencia']].sort_values(by='% pessoas c/ deficiencia', ascending=False).head()"
   ]
  },
  {
   "cell_type": "code",
   "execution_count": null,
   "id": "8392a8b4",
   "metadata": {
    "ExecuteTime": {
     "start_time": "2021-10-09T23:18:51.447Z"
    },
    "hidden": true
   },
   "outputs": [],
   "source": [
    "df_final"
   ]
  },
  {
   "cell_type": "code",
   "execution_count": null,
   "id": "def0b3ad",
   "metadata": {
    "ExecuteTime": {
     "start_time": "2021-10-09T23:18:51.451Z"
    },
    "hidden": true
   },
   "outputs": [],
   "source": [
    "df_pop_mun.head()"
   ]
  },
  {
   "cell_type": "code",
   "execution_count": null,
   "id": "fc994411",
   "metadata": {
    "ExecuteTime": {
     "start_time": "2021-10-09T23:18:51.453Z"
    },
    "hidden": true,
    "scrolled": true
   },
   "outputs": [],
   "source": [
    "df_pop_mun[df_pop_mun['UF']=='AC']#['População Relativa']"
   ]
  },
  {
   "cell_type": "code",
   "execution_count": null,
   "id": "eecbcdc2",
   "metadata": {
    "ExecuteTime": {
     "start_time": "2021-10-09T23:18:51.455Z"
    },
    "cell_style": "split",
    "hidden": true
   },
   "outputs": [],
   "source": [
    "total_deficientes_acre = 165892\n",
    "((df_pop_mun[df_pop_mun['UF']=='AC']['População Relativa'] * \n",
    "  total_deficientes_acre)/733558*100)"
   ]
  },
  {
   "cell_type": "code",
   "execution_count": null,
   "id": "013bdeb2",
   "metadata": {
    "ExecuteTime": {
     "start_time": "2021-10-09T23:18:51.457Z"
    },
    "cell_style": "split",
    "hidden": true
   },
   "outputs": [],
   "source": [
    "total_deficientes_acre = 165892\n",
    "((df_pop_mun[df_pop_mun['UF']=='AC']['População Relativa'] * \n",
    "  total_deficientes_acre)/190755799*100)"
   ]
  },
  {
   "cell_type": "code",
   "execution_count": null,
   "id": "3069665d",
   "metadata": {
    "ExecuteTime": {
     "start_time": "2021-10-09T23:18:51.459Z"
    },
    "hidden": true
   },
   "outputs": [],
   "source": [
    "pop_bras_2010 = 190755799\n",
    "df_pop_mun.columns = ['UF', 'c_cod_mun', 'c_mun', 'c_pop_abs', 'c_pop_rel_uf']\n",
    "df_all = pd.merge( df_pop_mun, df_final, how='left', on='UF' )\n",
    "df_all.loc[:, 'c_%_pop_def_rel_uf'] = df_all['c_pop_rel_uf'] * df_all['Pelo menos uma'] / df_all['Total'] *100\n",
    "df_all.loc[:, 'c_%_pop_def_rel_bras'] = df_all['c_pop_rel_uf'] * df_all['Pelo menos uma'] / pop_bras_2010 *100"
   ]
  },
  {
   "cell_type": "code",
   "execution_count": null,
   "id": "49b78c55",
   "metadata": {
    "ExecuteTime": {
     "start_time": "2021-10-09T23:18:51.462Z"
    },
    "hidden": true
   },
   "outputs": [],
   "source": [
    "df_all.to_csv( 'df_all.csv', index=False )"
   ]
  },
  {
   "cell_type": "code",
   "execution_count": null,
   "id": "0a47bce4",
   "metadata": {
    "ExecuteTime": {
     "start_time": "2021-10-09T23:18:51.465Z"
    },
    "hidden": true,
    "scrolled": false
   },
   "outputs": [],
   "source": [
    "df_all.sample(5)"
   ]
  },
  {
   "cell_type": "code",
   "execution_count": null,
   "id": "d2aa9582",
   "metadata": {
    "ExecuteTime": {
     "start_time": "2021-10-09T23:18:51.468Z"
    },
    "hidden": true
   },
   "outputs": [],
   "source": [
    "df_all.sort_values( 'c_%_pop_def_rel_bras', ascending=False ).head(10)"
   ]
  },
  {
   "cell_type": "markdown",
   "id": "447b92dc",
   "metadata": {},
   "source": [
    "## Unindo aos dados do IBP"
   ]
  },
  {
   "cell_type": "code",
   "execution_count": null,
   "id": "24af180b",
   "metadata": {
    "ExecuteTime": {
     "start_time": "2021-10-09T23:18:51.471Z"
    }
   },
   "outputs": [],
   "source": [
    "df_ibp = pd.read_csv( '../hackathon-cer-brasil-2021/cleiton/IBP/BDI_Municipalities-Level_Short.csv' )\n",
    "df_ibp.sample(5)"
   ]
  },
  {
   "cell_type": "code",
   "execution_count": null,
   "id": "87690143",
   "metadata": {
    "ExecuteTime": {
     "start_time": "2021-10-09T23:18:51.474Z"
    }
   },
   "outputs": [],
   "source": [
    "# Checando se o código de município é o mesmo entre os 2 dataframes\n",
    "df_ibp[df_ibp['cod_municipio'].isin([2202729,4200309,3200706,3154804,3143906])]"
   ]
  },
  {
   "cell_type": "code",
   "execution_count": null,
   "id": "87359b9b",
   "metadata": {
    "ExecuteTime": {
     "start_time": "2021-10-09T23:18:51.477Z"
    }
   },
   "outputs": [],
   "source": [
    "df_ibp = df_ibp.drop( columns=['uf', 'nome_da_uf', 'codmun6', 'nome_do_municipio'] )\n",
    "df_ref = pd.merge( df_all, df_ibp, how='left', left_on='c_cod_mun', right_on='cod_municipio' )\n",
    "df_ref = df_ref.rename( columns={'measure_1f_12': 'ibp', 'd_measure_1f_12': 'd_ibp', 'q_measure_1f_12': 'q_ibp' } )\n",
    "df_ref.drop( columns=['cod_municipio'], inplace=True )\n",
    "df_ref.sample(5)"
   ]
  },
  {
   "cell_type": "code",
   "execution_count": null,
   "id": "dea4e4ab",
   "metadata": {
    "ExecuteTime": {
     "start_time": "2021-10-09T23:18:51.480Z"
    }
   },
   "outputs": [],
   "source": [
    "df_mun = pd.read_csv( 'municipios.csv' )\n",
    "df_mun.sample(5)"
   ]
  },
  {
   "cell_type": "code",
   "execution_count": null,
   "id": "a19e06bb",
   "metadata": {
    "ExecuteTime": {
     "start_time": "2021-10-09T23:18:51.487Z"
    }
   },
   "outputs": [],
   "source": [
    "df_mun = df_mun.drop( columns=['nome', 'capital', 'codigo_uf', 'siafi_id', 'ddd', 'fuso_horario'] )\n",
    "df_mun.columns = ['c_cod_mun', 'lat', 'long']\n",
    "df_mun['lat_long'] = df_mun['lat'].astype( str ) + ',' + df_mun['long'].astype( str )\n",
    "df_mun.drop( columns=['lat', 'long'], inplace=True )\n",
    "df_ref = pd.merge( df_ref, df_mun, how='left', on='c_cod_mun' )\n",
    "df_ref"
   ]
  },
  {
   "cell_type": "code",
   "execution_count": null,
   "id": "cd646c33",
   "metadata": {
    "ExecuteTime": {
     "start_time": "2021-10-09T23:18:51.492Z"
    }
   },
   "outputs": [],
   "source": [
    "df_ref.to_csv( 'df_all_ibp.csv', index=False )"
   ]
  },
  {
   "cell_type": "code",
   "execution_count": null,
   "id": "355c08b8",
   "metadata": {},
   "outputs": [],
   "source": []
  },
  {
   "cell_type": "code",
   "execution_count": null,
   "id": "b6d09cc9",
   "metadata": {},
   "outputs": [],
   "source": []
  },
  {
   "cell_type": "code",
   "execution_count": null,
   "id": "50d3d845",
   "metadata": {},
   "outputs": [],
   "source": []
  },
  {
   "cell_type": "code",
   "execution_count": null,
   "id": "3b276519",
   "metadata": {},
   "outputs": [],
   "source": []
  },
  {
   "cell_type": "code",
   "execution_count": null,
   "id": "0316c0fe",
   "metadata": {},
   "outputs": [],
   "source": []
  }
 ],
 "metadata": {
  "kernelspec": {
   "display_name": "Python 3 (ipykernel)",
   "language": "python",
   "name": "python3"
  },
  "language_info": {
   "codemirror_mode": {
    "name": "ipython",
    "version": 3
   },
   "file_extension": ".py",
   "mimetype": "text/x-python",
   "name": "python",
   "nbconvert_exporter": "python",
   "pygments_lexer": "ipython3",
   "version": "3.9.7"
  },
  "toc": {
   "base_numbering": 1,
   "nav_menu": {},
   "number_sections": true,
   "sideBar": true,
   "skip_h1_title": false,
   "title_cell": "Table of Contents",
   "title_sidebar": "Contents",
   "toc_cell": false,
   "toc_position": {},
   "toc_section_display": true,
   "toc_window_display": false
  }
 },
 "nbformat": 4,
 "nbformat_minor": 5
}
